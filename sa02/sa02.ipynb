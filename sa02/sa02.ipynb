{
 "cells": [
  {
   "cell_type": "markdown",
   "metadata": {},
   "source": [
    "# Short Assignment 2: Filtering in Fourier Domain\n",
    "## SCC0251.2020.1 - Image Processing\n",
    "### Prof. Dr. Moacir Ponti\n",
    "### 10284952 - Vitor Gratiere Torres"
   ]
  },
  {
   "cell_type": "code",
   "execution_count": 1,
   "metadata": {},
   "outputs": [],
   "source": [
    "# Imports\n",
    "import numpy as np\n",
    "import imageio\n",
    "import matplotlib.pyplot as plt"
   ]
  },
  {
   "cell_type": "code",
   "execution_count": 2,
   "metadata": {},
   "outputs": [
    {
     "name": "stdout",
     "output_type": "stream",
     "text": [
      "/home/ava/documents/classes/SCC0251_DIP/sa01/images/num_small.png\n",
      ".01\n"
     ]
    }
   ],
   "source": [
    "r = imageio.imread(str(input()).rstrip()).astype(np.uint8)\n",
    "tin = float(input())"
   ]
  },
  {
   "cell_type": "code",
   "execution_count": 3,
   "metadata": {},
   "outputs": [],
   "source": [
    "# definition of 2D Fourier Transformation, as taught on lectures\n",
    "def DFT2D(f, inverse=False):\n",
    "    F = np.zeros(f.shape, dtype=np.complex64)\n",
    "    n, m = f.shape[0:2]\n",
    "    sign = (-1, 1)[inverse]\n",
    "\n",
    "    x = np.arange(n).reshape(n, 1)\n",
    "    y = np.arange(m).reshape(1, m)\n",
    "    for u in np.arange(n):\n",
    "        for v in np.arange(m):\n",
    "            F[u, v] += np.sum(f[x, y] *\n",
    "                              np.exp((sign*1j*2*np.pi)*(((u*x)/n)+((v*y)/m))))\n",
    "\n",
    "    return F/np.sqrt(n*m)\n",
    "\n",
    "\n",
    "def filter(f, threshold):\n",
    "    F = np.zeros(f.shape, dtype=np.complex64)\n",
    "    n, m = f.shape[0:2]\n",
    "    countFiltered = 0\n",
    "\n",
    "    for x in np.arange(n):\n",
    "        for y in np.arange(m):\n",
    "            if np.abs(f[x, y]) >= threshold:\n",
    "                F[x, y] = f[x, y]\n",
    "            else:\n",
    "                F[x, y] = 0\n",
    "                countFiltered += 1\n",
    "    return countFiltered, F\n",
    "\n",
    "\n",
    "def imgMean(f):\n",
    "    n, m = f.shape[0:2]\n",
    "    x = np.arange(n).reshape(n, 1)\n",
    "    y = np.arange(m).reshape(1, m)\n",
    "    mean = np.sum(f[x, y])\n",
    "    return np.abs(np.real(mean)/(n*m))"
   ]
  },
  {
   "cell_type": "code",
   "execution_count": 4,
   "metadata": {},
   "outputs": [],
   "source": [
    "R = DFT2D(np.asarray(r))"
   ]
  },
  {
   "cell_type": "code",
   "execution_count": 5,
   "metadata": {},
   "outputs": [
    {
     "data": {
      "text/plain": [
       "(-0.5, 31.5, 31.5, -0.5)"
      ]
     },
     "execution_count": 5,
     "metadata": {},
     "output_type": "execute_result"
    },
    {
     "data": {
      "image/png": "[encoded data removed]",
      "text/plain": [
       "<Figure size 432x288 with 2 Axes>"
      ]
     },
     "metadata": {
      "needs_background": "light"
     },
     "output_type": "display_data"
    }
   ],
   "source": [
    "plt.subplot(121)\n",
    "plt.imshow(r, cmap=\"gray\")\n",
    "plt.axis('off')\n",
    "plt.subplot(122)\n",
    "plt.imshow(np.log(1 + np.abs(R)), cmap=\"gray\")\n",
    "plt.axis('off')"
   ]
  },
  {
   "cell_type": "code",
   "execution_count": 6,
   "metadata": {},
   "outputs": [],
   "source": [
    "sndMax = np.sort(np.abs(R.flatten()))[-2]\n",
    "threshold = tin * sndMax"
   ]
  },
  {
   "cell_type": "code",
   "execution_count": 7,
   "metadata": {},
   "outputs": [],
   "source": [
    "countFiltered, Rfiltered = filter(R, threshold)"
   ]
  },
  {
   "cell_type": "code",
   "execution_count": 8,
   "metadata": {},
   "outputs": [
    {
     "data": {
      "text/plain": [
       "(-0.5, 31.5, 31.5, -0.5)"
      ]
     },
     "execution_count": 8,
     "metadata": {},
     "output_type": "execute_result"
    },
    {
     "data": {
      "image/png": "[encoded data removed]",
      "text/plain": [
       "<Figure size 432x288 with 2 Axes>"
      ]
     },
     "metadata": {
      "needs_background": "light"
     },
     "output_type": "display_data"
    }
   ],
   "source": [
    "plt.subplot(121)\n",
    "plt.imshow(np.log(1 + np.abs(R)), cmap=\"gray\")\n",
    "plt.axis('off')\n",
    "plt.subplot(122)\n",
    "plt.imshow(np.log(1 + np.abs(Rfiltered)), cmap=\"gray\")\n",
    "plt.axis('off')"
   ]
  },
  {
   "cell_type": "code",
   "execution_count": 9,
   "metadata": {},
   "outputs": [],
   "source": [
    "rfiltered = DFT2D(np.asarray(Rfiltered), True)"
   ]
  },
  {
   "cell_type": "code",
   "execution_count": 10,
   "metadata": {},
   "outputs": [
    {
     "data": {
      "text/plain": [
       "(-0.5, 31.5, 31.5, -0.5)"
      ]
     },
     "execution_count": 10,
     "metadata": {},
     "output_type": "execute_result"
    },
    {
     "data": {
      "image/png": "[encoded data removed]",
      "text/plain": [
       "<Figure size 432x288 with 2 Axes>"
      ]
     },
     "metadata": {
      "needs_background": "light"
     },
     "output_type": "display_data"
    }
   ],
   "source": [
    "plt.subplot(121)\n",
    "plt.imshow(r, cmap=\"gray\")\n",
    "plt.axis('off')\n",
    "plt.subplot(122)\n",
    "plt.imshow(np.log(1 + np.abs(rfiltered)), cmap=\"gray\")\n",
    "plt.axis('off')"
   ]
  },
  {
   "cell_type": "code",
   "execution_count": 15,
   "metadata": {},
   "outputs": [
    {
     "name": "stdout",
     "output_type": "stream",
     "text": [
      "Threshold=6.5500\n",
      "Filtered Coefficients=12\n",
      "Original Mean=168.47\n",
      "New Mean=168.58\n"
     ]
    }
   ],
   "source": [
    "print(\"Threshold={:.4f}\".format(threshold))\n",
    "print(\"Filtered Coefficients=\", countFiltered, sep='')\n",
    "print(\"Original Mean={:.2f}\".format(imgMean(r))) # I know it's the same as R[0,0]\n",
    "print(\"New Mean={:.2f}\".format(imgMean(np.abs(rfiltered))))"
   ]
  }
 ],
 "metadata": {
  "kernelspec": {
   "display_name": "Python 3.8.2 64-bit",
   "language": "python",
   "name": "python38264bit42fd90863aaf48b699bc96d82d6a7548"
  },
  "language_info": {
   "codemirror_mode": {
    "name": "ipython",
    "version": 3
   },
   "file_extension": ".py",
   "mimetype": "text/x-python",
   "name": "python",
   "nbconvert_exporter": "python",
   "pygments_lexer": "ipython3",
   "version": "3.6.9"
  }
 },
 "nbformat": 4,
 "nbformat_minor": 2
}
