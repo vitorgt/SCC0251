{
 "cells": [
  {
   "cell_type": "markdown",
   "metadata": {},
   "source": [
    "# Short Assignment 2: Image Restoration\n",
    "## SCC0251.2020.1 - Image Processing\n",
    "### Prof. Dr. Moacir Ponti\n",
    "### 10284952 - Vitor Gratiere Torres"
   ]
  },
  {
   "cell_type": "code",
   "execution_count": 1,
   "metadata": {},
   "outputs": [],
   "source": [
    "# Imports\n",
    "import numpy as np\n",
    "import imageio\n",
    "import matplotlib.pyplot as plt"
   ]
  },
  {
   "cell_type": "code",
   "execution_count": 5,
   "metadata": {},
   "outputs": [],
   "source": [
    "# r = imageio.imread(str(input()).rstrip()).astype(np.uint8)\n",
    "r = imageio.imread(str(\"/home/ava/documents/classes/SCC0251_DIP/sa02/images/case_b1_n.png\").rstrip()).astype(np.uint8)\n",
    "# k = int(input())\n",
    "k = int(3)\n",
    "# sigma = float(input())\n",
    "sigma = float(.6)\n",
    "# gamma = float(input())\n",
    "gamma = float(.001)"
   ]
  },
  {
   "cell_type": "code",
   "execution_count": 7,
   "metadata": {},
   "outputs": [],
   "source": [
    "def gaussian_filter(k=3, sigma=1.0):\n",
    "    arx = np.arange((-k//2) + 1.0, (k//2) + 1.0)\n",
    "    x, y = np.meshgrid(arx, arx)\n",
    "    f = np.exp(-(1/2) * (np.square(x) + np.square(y))/np.square(sigma))\n",
    "    return f/np.sum(f)"
   ]
  },
  {
   "cell_type": "code",
   "execution_count": 8,
   "metadata": {},
   "outputs": [],
   "source": [
    "h = gaussian_filter(k, sigma)"
   ]
  },
  {
   "cell_type": "code",
   "execution_count": null,
   "metadata": {},
   "outputs": [],
   "source": [
    "np.fft2()\n",
    "np.ifft2()"
   ]
  },
  {
   "cell_type": "code",
   "execution_count": 5,
   "metadata": {},
   "outputs": [
    {
     "data": {
      "text/plain": [
       "(-0.5, 31.5, 31.5, -0.5)"
      ]
     },
     "execution_count": 5,
     "metadata": {},
     "output_type": "execute_result"
    },
    {
     "data": {
      "image/png": "[encoded data removed]",
      "text/plain": [
       "<Figure size 432x288 with 2 Axes>"
      ]
     },
     "metadata": {
      "needs_background": "light"
     },
     "output_type": "display_data"
    }
   ],
   "source": [
    "plt.subplot(121)\n",
    "plt.imshow(r, cmap=\"gray\")\n",
    "plt.axis('off')\n",
    "plt.subplot(122)\n",
    "plt.imshow(np.log(1 + np.abs(R)), cmap=\"gray\")\n",
    "plt.axis('off')"
   ]
  },
  {
   "cell_type": "code",
   "execution_count": 15,
   "metadata": {},
   "outputs": [
    {
     "name": "stdout",
     "output_type": "stream",
     "text": [
      "Threshold=6.5500\n",
      "Filtered Coefficients=12\n",
      "Original Mean=168.47\n",
      "New Mean=168.58\n"
     ]
    }
   ],
   "source": [
    "print(\"{:.1f}\".format(np.std(restored)))"
   ]
  }
 ],
 "metadata": {
  "kernelspec": {
   "display_name": "Python 3.8.2 64-bit",
   "language": "python",
   "name": "python38264bit02f1b7c2c1864670a93acb5a1fa6fc63"
  },
  "language_info": {
   "codemirror_mode": {
    "name": "ipython",
    "version": 3
   },
   "file_extension": ".py",
   "mimetype": "text/x-python",
   "name": "python",
   "nbconvert_exporter": "python",
   "pygments_lexer": "ipython3",
   "version": "3.8.2-final"
  }
 },
 "nbformat": 4,
 "nbformat_minor": 2
}